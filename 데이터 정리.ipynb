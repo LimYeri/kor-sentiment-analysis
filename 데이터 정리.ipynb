{
 "cells": [
  {
   "cell_type": "markdown",
   "metadata": {
    "id": "QtVOVe2VZ-Cw"
   },
   "source": [
    "### 데이터 불러오기"
   ]
  },
  {
   "cell_type": "code",
   "execution_count": null,
   "metadata": {
    "colab": {
     "base_uri": "https://localhost:8080/"
    },
    "executionInfo": {
     "elapsed": 2106,
     "status": "ok",
     "timestamp": 1709615936143,
     "user": {
      "displayName": "예리",
      "userId": "17547695558125933092"
     },
     "user_tz": -540
    },
    "id": "Vi-iQy2ofgnn",
    "outputId": "1cba177a-acbb-46d8-ac86-f0f8716c9bd6"
   },
   "outputs": [
    {
     "name": "stdout",
     "output_type": "stream",
     "text": [
      "Drive already mounted at /content/drive; to attempt to forcibly remount, call drive.mount(\"/content/drive\", force_remount=True).\n"
     ]
    }
   ],
   "source": [
    "# prompt: 구글 드라이브 연결\n",
    "\n",
    "from google.colab import drive\n",
    "\n",
    "drive.mount(\"/content/drive\")"
   ]
  },
  {
   "cell_type": "code",
   "execution_count": null,
   "metadata": {
    "colab": {
     "base_uri": "https://localhost:8080/"
    },
    "executionInfo": {
     "elapsed": 15544,
     "status": "ok",
     "timestamp": 1709615951683,
     "user": {
      "displayName": "예리",
      "userId": "17547695558125933092"
     },
     "user_tz": -540
    },
    "id": "CnmVZ1LdwGcL",
    "outputId": "40913663-a305-48aa-9c62-31cbf46c82ee"
   },
   "outputs": [],
   "source": [
    "!pip install Korpora"
   ]
  },
  {
   "cell_type": "code",
   "execution_count": null,
   "metadata": {
    "colab": {
     "base_uri": "https://localhost:8080/"
    },
    "executionInfo": {
     "elapsed": 2416,
     "status": "ok",
     "timestamp": 1709615954071,
     "user": {
      "displayName": "예리",
      "userId": "17547695558125933092"
     },
     "user_tz": -540
    },
    "id": "EKPcuWSZwYeg",
    "outputId": "1d8dd668-e91d-43be-939d-38ba23d6fb5f"
   },
   "outputs": [
    {
     "name": "stderr",
     "output_type": "stream",
     "text": [
      "[nsmc] download ratings_train.txt: 14.6MB [00:00, 60.5MB/s]                            \n",
      "[nsmc] download ratings_test.txt: 4.90MB [00:00, 27.9MB/s]                           \n"
     ]
    }
   ],
   "source": [
    "# NSMC 데이터 불러오기\n",
    "from Korpora import Korpora\n",
    "\n",
    "Korpora.fetch(\"nsmc\")"
   ]
  },
  {
   "cell_type": "code",
   "execution_count": 6,
   "metadata": {
    "colab": {
     "base_uri": "https://localhost:8080/"
    },
    "executionInfo": {
     "elapsed": 2098,
     "status": "ok",
     "timestamp": 1709615956158,
     "user": {
      "displayName": "예리",
      "userId": "17547695558125933092"
     },
     "user_tz": -540
    },
    "id": "sPuEQsu_wcOz",
    "outputId": "3443fb9d-8dcb-4513-e50d-923e16608d0f"
   },
   "outputs": [
    {
     "name": "stdout",
     "output_type": "stream",
     "text": [
      "\n",
      "    Korpora 는 다른 분들이 연구 목적으로 공유해주신 말뭉치들을\n",
      "    손쉽게 다운로드, 사용할 수 있는 기능만을 제공합니다.\n",
      "\n",
      "    말뭉치들을 공유해 주신 분들에게 감사드리며, 각 말뭉치 별 설명과 라이센스를 공유 드립니다.\n",
      "    해당 말뭉치에 대해 자세히 알고 싶으신 분은 아래의 description 을 참고,\n",
      "    해당 말뭉치를 연구/상용의 목적으로 이용하실 때에는 아래의 라이센스를 참고해 주시기 바랍니다.\n",
      "\n",
      "    # Description\n",
      "    Author : e9t@github\n",
      "    Repository : https://github.com/e9t/nsmc\n",
      "    References : www.lucypark.kr/docs/2015-pyconkr/#39\n",
      "\n",
      "    Naver sentiment movie corpus v1.0\n",
      "    This is a movie review dataset in the Korean language.\n",
      "    Reviews were scraped from Naver Movies.\n",
      "\n",
      "    The dataset construction is based on the method noted in\n",
      "    [Large movie review dataset][^1] from Maas et al., 2011.\n",
      "\n",
      "    [^1]: http://ai.stanford.edu/~amaas/data/sentiment/\n",
      "\n",
      "    # License\n",
      "    CC0 1.0 Universal (CC0 1.0) Public Domain Dedication\n",
      "    Details in https://creativecommons.org/publicdomain/zero/1.0/\n",
      "\n",
      "[Korpora] Corpus `nsmc` is already installed at /root/Korpora/nsmc/ratings_train.txt\n",
      "[Korpora] Corpus `nsmc` is already installed at /root/Korpora/nsmc/ratings_test.txt\n"
     ]
    }
   ],
   "source": [
    "corpus = Korpora.load(\"nsmc\")"
   ]
  },
  {
   "cell_type": "code",
   "execution_count": null,
   "metadata": {
    "executionInfo": {
     "elapsed": 430,
     "status": "ok",
     "timestamp": 1709615956579,
     "user": {
      "displayName": "예리",
      "userId": "17547695558125933092"
     },
     "user_tz": -540
    },
    "id": "XpDtsJG4wfaQ"
   },
   "outputs": [],
   "source": [
    "import pandas as pd\n",
    "\n",
    "data1_text = pd.DataFrame(corpus.train.texts, columns=[\"text\"])\n",
    "data1_labels = pd.DataFrame(corpus.train.labels, columns=[\"labels\"])\n",
    "data1 = pd.concat([data1_text, data1_labels], axis=1)"
   ]
  },
  {
   "cell_type": "code",
   "execution_count": null,
   "metadata": {
    "executionInfo": {
     "elapsed": 378,
     "status": "ok",
     "timestamp": 1709615956954,
     "user": {
      "displayName": "예리",
      "userId": "17547695558125933092"
     },
     "user_tz": -540
    },
    "id": "lyFv34AhwsBV"
   },
   "outputs": [],
   "source": [
    "data2_text = pd.DataFrame(corpus.test.texts, columns=[\"text\"])\n",
    "data2_labels = pd.DataFrame(corpus.test.labels, columns=[\"labels\"])\n",
    "data2 = pd.concat([data2_text, data2_labels], axis=1)"
   ]
  },
  {
   "cell_type": "code",
   "execution_count": null,
   "metadata": {
    "executionInfo": {
     "elapsed": 12434,
     "status": "ok",
     "timestamp": 1709616130351,
     "user": {
      "displayName": "예리",
      "userId": "17547695558125933092"
     },
     "user_tz": -540
    },
    "id": "C2SBCh-GfoF8"
   },
   "outputs": [],
   "source": [
    "data3 = pd.read_excel(\n",
    "    \"/content/drive/MyDrive/Colab Notebooks/특정 테스크에 해당하는 자연어처리 모델 서빙하기/데이터/한국어_단발성_대화_데이터셋.xlsx\"\n",
    ")\n",
    "data4 = pd.read_excel(\n",
    "    \"/content/drive/MyDrive/Colab Notebooks/특정 테스크에 해당하는 자연어처리 모델 서빙하기/데이터/한국어_연속적_대화_데이터셋.xlsx\"\n",
    ")\n",
    "data5 = pd.read_csv(\n",
    "    \"/content/drive/MyDrive/Colab Notebooks/특정 테스크에 해당하는 자연어처리 모델 서빙하기/데이터/new_data.csv\"\n",
    ")"
   ]
  },
  {
   "cell_type": "code",
   "execution_count": null,
   "metadata": {
    "executionInfo": {
     "elapsed": 260,
     "status": "ok",
     "timestamp": 1709616175465,
     "user": {
      "displayName": "예리",
      "userId": "17547695558125933092"
     },
     "user_tz": -540
    },
    "id": "cEAGakH7hSaD"
   },
   "outputs": [],
   "source": [
    "data3 = data3.drop([\"Unnamed: 2\", \"Unnamed: 3\", \"Unnamed: 4\", \"공포\", 5468], axis=1)\n",
    "data3 = data3.rename(columns={\"Sentence\": \"text\", \"Emotion\": \"labels\"})\n",
    "data4 = data4.drop(\n",
    "    [\n",
    "        \"Unnamed: 0\",\n",
    "        \"Unnamed: 3\",\n",
    "        \"Unnamed: 4\",\n",
    "        \"공포\",\n",
    "        \"행복\",\n",
    "        \"중립\",\n",
    "        \"슬픔\",\n",
    "        \"혐오\",\n",
    "        \"분노\",\n",
    "        \"놀람\",\n",
    "    ],\n",
    "    axis=1,\n",
    ")\n",
    "data4 = data4.rename(columns={\"Unnamed: 1\": \"text\", \"Unnamed: 2\": \"labels\"})\n",
    "data4 = data4.drop(0)"
   ]
  },
  {
   "cell_type": "code",
   "execution_count": 13,
   "metadata": {
    "colab": {
     "base_uri": "https://localhost:8080/"
    },
    "executionInfo": {
     "elapsed": 6,
     "status": "ok",
     "timestamp": 1709616171584,
     "user": {
      "displayName": "예리",
      "userId": "17547695558125933092"
     },
     "user_tz": -540
    },
    "id": "PVKKQzkhfxFw",
    "outputId": "77b8245a-527a-417f-a6cb-0a584a0b98b7"
   },
   "outputs": [
    {
     "data": {
      "text/plain": [
       "(150000, 50000, 38594, 55629, 58271)"
      ]
     },
     "execution_count": 13,
     "metadata": {},
     "output_type": "execute_result"
    }
   ],
   "source": [
    "len(data1), len(data2), len(data3), len(data4), len(data5)"
   ]
  },
  {
   "cell_type": "code",
   "execution_count": null,
   "metadata": {
    "colab": {
     "base_uri": "https://localhost:8080/"
    },
    "executionInfo": {
     "elapsed": 9,
     "status": "ok",
     "timestamp": 1709616185902,
     "user": {
      "displayName": "예리",
      "userId": "17547695558125933092"
     },
     "user_tz": -540
    },
    "id": "RBO-9EXyheB7",
    "outputId": "5429e358-babb-443a-a422-f90d53f0d7d3"
   },
   "outputs": [
    {
     "name": "stderr",
     "output_type": "stream",
     "text": [
      "<ipython-input-15-e9ea91620204>:9: SettingWithCopyWarning: \n",
      "A value is trying to be set on a copy of a slice from a DataFrame.\n",
      "Try using .loc[row_indexer,col_indexer] = value instead\n",
      "\n",
      "See the caveats in the documentation: https://pandas.pydata.org/pandas-docs/stable/user_guide/indexing.html#returning-a-view-versus-a-copy\n",
      "  data3['labels'] = data3['labels'].replace({'분노': '부정', '혐오': '부정', '행복': '긍정'})\n",
      "<ipython-input-15-e9ea91620204>:10: SettingWithCopyWarning: \n",
      "A value is trying to be set on a copy of a slice from a DataFrame.\n",
      "Try using .loc[row_indexer,col_indexer] = value instead\n",
      "\n",
      "See the caveats in the documentation: https://pandas.pydata.org/pandas-docs/stable/user_guide/indexing.html#returning-a-view-versus-a-copy\n",
      "  data4['labels'] = data4['labels'].replace({'분노': '부정', '혐오': '부정', '행복': '긍정'})\n"
     ]
    }
   ],
   "source": [
    "# Assuming 'label' is the name of your column\n",
    "data1[\"labels\"] = data1[\"labels\"].replace({0: \"부정\", 1: \"긍정\"})\n",
    "data2[\"labels\"] = data2[\"labels\"].replace({0: \"부정\", 1: \"긍정\"})\n",
    "data1.iloc[1, 1] = \"긍정\"\n",
    "# Keep only rows where the label is one of the specified emotions\n",
    "data3 = data3[data3[\"labels\"].isin([\"분노\", \"혐오\", \"행복\", \"중립\"])]\n",
    "data4 = data4[data4[\"labels\"].isin([\"분노\", \"혐오\", \"행복\", \"중립\"])]\n",
    "# Replace 'anger' and 'disgust' with 'negativity', and 'happiness' with 'positivity'\n",
    "data3[\"labels\"] = data3[\"labels\"].replace(\n",
    "    {\"분노\": \"부정\", \"혐오\": \"부정\", \"행복\": \"긍정\"}\n",
    ")\n",
    "data4[\"labels\"] = data4[\"labels\"].replace(\n",
    "    {\"분노\": \"부정\", \"혐오\": \"부정\", \"행복\": \"긍정\"}\n",
    ")"
   ]
  },
  {
   "cell_type": "code",
   "execution_count": null,
   "metadata": {
    "executionInfo": {
     "elapsed": 302,
     "status": "ok",
     "timestamp": 1709616199359,
     "user": {
      "displayName": "예리",
      "userId": "17547695558125933092"
     },
     "user_tz": -540
    },
    "id": "Dg6m_kJf8oMc"
   },
   "outputs": [],
   "source": [
    "import numpy as np\n",
    "\n",
    "# 공백 문자열을 NaN으로 변환\n",
    "data1.replace(\"\", np.nan, inplace=True)\n",
    "data2.replace(\"\", np.nan, inplace=True)\n",
    "data3.replace(\"\", np.nan, inplace=True)\n",
    "data4.replace(\"\", np.nan, inplace=True)\n",
    "data5.replace(\"\", np.nan, inplace=True)"
   ]
  },
  {
   "cell_type": "code",
   "execution_count": 17,
   "metadata": {
    "colab": {
     "base_uri": "https://localhost:8080/"
    },
    "executionInfo": {
     "elapsed": 729,
     "status": "ok",
     "timestamp": 1709616207762,
     "user": {
      "displayName": "예리",
      "userId": "17547695558125933092"
     },
     "user_tz": -540
    },
    "id": "iKUlHi0yyDZT",
    "outputId": "dfe8596b-d2be-4204-d7b4-23795ee66e7b"
   },
   "outputs": [
    {
     "name": "stdout",
     "output_type": "stream",
     "text": [
      "text      5\n",
      "labels    0\n",
      "dtype: int64\n",
      "text      3\n",
      "labels    0\n",
      "dtype: int64\n",
      "text      0\n",
      "labels    0\n",
      "dtype: int64\n",
      "text      0\n",
      "labels    0\n",
      "dtype: int64\n",
      "labels    0\n",
      "text      0\n",
      "dtype: int64\n"
     ]
    }
   ],
   "source": [
    "# 데이터셋의 결측치 확인\n",
    "print(data1.isnull().sum())\n",
    "print(data2.isnull().sum())\n",
    "print(data3.isnull().sum())\n",
    "print(data4.isnull().sum())\n",
    "print(data5.isnull().sum())"
   ]
  },
  {
   "cell_type": "code",
   "execution_count": 18,
   "metadata": {
    "executionInfo": {
     "elapsed": 7,
     "status": "ok",
     "timestamp": 1709616211959,
     "user": {
      "displayName": "예리",
      "userId": "17547695558125933092"
     },
     "user_tz": -540
    },
    "id": "tnkDVG469Bel"
   },
   "outputs": [],
   "source": [
    "# 결측치가 포함된 모든 행 제거\n",
    "data1 = data1.dropna()\n",
    "data2 = data2.dropna()"
   ]
  },
  {
   "cell_type": "code",
   "execution_count": null,
   "metadata": {
    "executionInfo": {
     "elapsed": 747,
     "status": "ok",
     "timestamp": 1709616264280,
     "user": {
      "displayName": "예리",
      "userId": "17547695558125933092"
     },
     "user_tz": -540
    },
    "id": "c3BQyl4QeIMS"
   },
   "outputs": [],
   "source": [
    "# 한국어 외 문자가 포함된 행 찾기 및 '.', ',', '!', '?'로만 이루어진 문자열 제외\n",
    "non_korean1 = data1[\n",
    "    ~data1[\"text\"].str.contains(\"[가-힣ㄱ-ㅎㅏ-ㅣ]\")\n",
    "    & ~data1[\"text\"].str.match(\"^[.,!?^;]+$\")\n",
    "]\n",
    "non_korean2 = data2[\n",
    "    ~data2[\"text\"].str.contains(\"[가-힣ㄱ-ㅎㅏ-ㅣ]\")\n",
    "    & ~data2[\"text\"].str.match(\"^[.,!?^;]+$\")\n",
    "]\n",
    "non_korean3 = data3[\n",
    "    ~data3[\"text\"].str.contains(\"[가-힣ㄱ-ㅎㅏ-ㅣ]\")\n",
    "    & ~data3[\"text\"].str.match(\"^[.,!?^;]+$\")\n",
    "]\n",
    "non_korean4 = data4[\n",
    "    ~data4[\"text\"].str.contains(\"[가-힣ㄱ-ㅎㅏ-ㅣ]\")\n",
    "    & ~data4[\"text\"].str.match(\"^[.,!?^;]+$\")\n",
    "]\n",
    "non_korean5 = data5[\n",
    "    ~data5[\"text\"].str.contains(\"[가-힣ㄱ-ㅎㅏ-ㅣ]\")\n",
    "    & ~data5[\"text\"].str.match(\"^[.,!?^;]+$\")\n",
    "]"
   ]
  },
  {
   "cell_type": "code",
   "execution_count": 22,
   "metadata": {
    "colab": {
     "base_uri": "https://localhost:8080/"
    },
    "executionInfo": {
     "elapsed": 8,
     "status": "ok",
     "timestamp": 1709616272784,
     "user": {
      "displayName": "예리",
      "userId": "17547695558125933092"
     },
     "user_tz": -540
    },
    "id": "rDP7POaNesJW",
    "outputId": "aa5902c6-050f-4f26-8f70-2ca8397351e0"
   },
   "outputs": [
    {
     "data": {
      "text/plain": [
       "(1034, 366, 1, 5, 0)"
      ]
     },
     "execution_count": 22,
     "metadata": {},
     "output_type": "execute_result"
    }
   ],
   "source": [
    "len(non_korean1), len(non_korean2), len(non_korean3), len(non_korean4), len(non_korean5)"
   ]
  },
  {
   "cell_type": "code",
   "execution_count": 23,
   "metadata": {
    "executionInfo": {
     "elapsed": 314,
     "status": "ok",
     "timestamp": 1709616281227,
     "user": {
      "displayName": "예리",
      "userId": "17547695558125933092"
     },
     "user_tz": -540
    },
    "id": "w3na_pRPemqC"
   },
   "outputs": [],
   "source": [
    "# non_korean에서 찾은 행을 원본 데이터셋에서 제거\n",
    "data1 = data1.drop(non_korean1.index)\n",
    "data2 = data2.drop(non_korean2.index)\n",
    "data3 = data3.drop(non_korean3.index)\n",
    "data4 = data4.drop(non_korean4.index)"
   ]
  },
  {
   "cell_type": "code",
   "execution_count": 24,
   "metadata": {
    "colab": {
     "base_uri": "https://localhost:8080/"
    },
    "executionInfo": {
     "elapsed": 284,
     "status": "ok",
     "timestamp": 1709616288865,
     "user": {
      "displayName": "예리",
      "userId": "17547695558125933092"
     },
     "user_tz": -540
    },
    "id": "tLWmyeyue6cD",
    "outputId": "2c4bf160-ad4a-4b55-d4a3-6b1cac04925e"
   },
   "outputs": [
    {
     "data": {
      "text/plain": [
       "(148961, 49631, 21960, 48659, 58271)"
      ]
     },
     "execution_count": 24,
     "metadata": {},
     "output_type": "execute_result"
    }
   ],
   "source": [
    "len(data1), len(data2), len(data3), len(data4), len(data5)"
   ]
  },
  {
   "cell_type": "code",
   "execution_count": null,
   "metadata": {
    "colab": {
     "base_uri": "https://localhost:8080/"
    },
    "executionInfo": {
     "elapsed": 6,
     "status": "ok",
     "timestamp": 1709616359485,
     "user": {
      "displayName": "예리",
      "userId": "17547695558125933092"
     },
     "user_tz": -540
    },
    "id": "B2nwM-NchqNJ",
    "outputId": "cc741428-c950-4519-edf1-a4a322c7c0a9"
   },
   "outputs": [
    {
     "name": "stdout",
     "output_type": "stream",
     "text": [
      "부정    74743\n",
      "긍정    74218\n",
      "Name: labels, dtype: int64\n",
      "긍정    24955\n",
      "부정    24676\n",
      "Name: labels, dtype: int64\n",
      "부정    11094\n",
      "긍정     6036\n",
      "중립     4830\n",
      "Name: labels, dtype: int64\n",
      "중립    43781\n",
      "부정     3848\n",
      "긍정     1030\n",
      "Name: labels, dtype: int64\n",
      "부정    50932\n",
      "긍정     7339\n",
      "Name: labels, dtype: int64\n"
     ]
    }
   ],
   "source": [
    "print(data1[\"labels\"].value_counts())\n",
    "print(data2[\"labels\"].value_counts())\n",
    "print(data3[\"labels\"].value_counts())\n",
    "print(data4[\"labels\"].value_counts())\n",
    "print(data5[\"labels\"].value_counts())"
   ]
  },
  {
   "cell_type": "code",
   "execution_count": 30,
   "metadata": {
    "executionInfo": {
     "elapsed": 303,
     "status": "ok",
     "timestamp": 1709616638493,
     "user": {
      "displayName": "예리",
      "userId": "17547695558125933092"
     },
     "user_tz": -540
    },
    "id": "TDRNIFapiKY5"
   },
   "outputs": [],
   "source": [
    "# 첫번째 시도\n",
    "data = pd.concat([data1, data2, data3, data4])"
   ]
  },
  {
   "cell_type": "code",
   "execution_count": null,
   "metadata": {
    "executionInfo": {
     "elapsed": 15,
     "status": "aborted",
     "timestamp": 1709615957314,
     "user": {
      "displayName": "예리",
      "userId": "17547695558125933092"
     },
     "user_tz": -540
    },
    "id": "SM5oirMgkyQR"
   },
   "outputs": [],
   "source": [
    "print(data[\"labels\"].value_counts())"
   ]
  },
  {
   "cell_type": "code",
   "execution_count": null,
   "metadata": {
    "executionInfo": {
     "elapsed": 15,
     "status": "aborted",
     "timestamp": 1709615957314,
     "user": {
      "displayName": "예리",
      "userId": "17547695558125933092"
     },
     "user_tz": -540
    },
    "id": "cJiW0IP_54sb"
   },
   "outputs": [],
   "source": [
    "print(data.isnull().sum())"
   ]
  },
  {
   "cell_type": "code",
   "execution_count": null,
   "metadata": {
    "id": "l5p-NbGNk235"
   },
   "outputs": [],
   "source": [
    "# 데이터 저장\n",
    "# data.to_csv('/content/drive/MyDrive/Colab Notebooks/특정 테스크에 해당하는 자연어처리 모델 서빙하기/data.csv', index=False, encoding='utf-8-sig')"
   ]
  },
  {
   "cell_type": "code",
   "execution_count": null,
   "metadata": {
    "colab": {
     "base_uri": "https://localhost:8080/"
    },
    "executionInfo": {
     "elapsed": 8526,
     "status": "ok",
     "timestamp": 1709024291183,
     "user": {
      "displayName": "예리",
      "userId": "17547695558125933092"
     },
     "user_tz": -540
    },
    "id": "WGQ3gFJIKDzy",
    "outputId": "cff6f2c1-d9e8-4458-b9e7-eab1c09ffe7a"
   },
   "outputs": [],
   "source": [
    "# 폰트 설치\n",
    "# !sudo apt-get install -y fonts-nanum\n",
    "# !sudo fc-cache -fv\n",
    "# !rm ~/.cache/matplotlib -rf"
   ]
  },
  {
   "cell_type": "code",
   "execution_count": null,
   "metadata": {
    "colab": {
     "base_uri": "https://localhost:8080/",
     "height": 751
    },
    "executionInfo": {
     "elapsed": 638,
     "status": "ok",
     "timestamp": 1709024298842,
     "user": {
      "displayName": "예리",
      "userId": "17547695558125933092"
     },
     "user_tz": -540
    },
    "id": "VhJdqgaBBCp1",
    "outputId": "c73efddb-1eba-4043-ff56-b241eb7497bb"
   },
   "outputs": [
    {
     "name": "stderr",
     "output_type": "stream",
     "text": [
      "/usr/local/lib/python3.10/dist-packages/IPython/core/pylabtools.py:151: UserWarning: Glyph 48512 (\\N{HANGUL SYLLABLE BU}) missing from current font.\n",
      "  fig.canvas.print_figure(bytes_io, **kw)\n",
      "/usr/local/lib/python3.10/dist-packages/IPython/core/pylabtools.py:151: UserWarning: Glyph 51221 (\\N{HANGUL SYLLABLE JEONG}) missing from current font.\n",
      "  fig.canvas.print_figure(bytes_io, **kw)\n",
      "/usr/local/lib/python3.10/dist-packages/IPython/core/pylabtools.py:151: UserWarning: Glyph 44557 (\\N{HANGUL SYLLABLE GEUNG}) missing from current font.\n",
      "  fig.canvas.print_figure(bytes_io, **kw)\n",
      "/usr/local/lib/python3.10/dist-packages/IPython/core/pylabtools.py:151: UserWarning: Glyph 51473 (\\N{HANGUL SYLLABLE JUNG}) missing from current font.\n",
      "  fig.canvas.print_figure(bytes_io, **kw)\n",
      "/usr/local/lib/python3.10/dist-packages/IPython/core/pylabtools.py:151: UserWarning: Glyph 47549 (\\N{HANGUL SYLLABLE RIB}) missing from current font.\n",
      "  fig.canvas.print_figure(bytes_io, **kw)\n"
     ]
    },
    {
     "data": {
      "image/png": "[encoded data removed]",
      "text/plain": [
       "<Figure size 800x600 with 1 Axes>"
      ]
     },
     "metadata": {},
     "output_type": "display_data"
    }
   ],
   "source": [
    "import matplotlib.pyplot as plt\n",
    "from matplotlib import font_manager, rc\n",
    "\n",
    "# 레이블 분포 계산\n",
    "label_counts = data[\"labels\"].value_counts()\n",
    "\n",
    "# 시각화\n",
    "plt.figure(figsize=(8, 6))\n",
    "label_counts.plot(kind=\"bar\")\n",
    "plt.title(\"Label Distribution\")\n",
    "plt.xlabel(\"Label\")\n",
    "plt.ylabel(\"Count\")\n",
    "plt.xticks(rotation=45)\n",
    "plt.show()\n",
    "\n",
    "# 한글 폰트 설정\n",
    "plt.rc(\"font\", family=\"NanumBarunGothic\")"
   ]
  },
  {
   "cell_type": "markdown",
   "metadata": {
    "id": "JHO97kVDGC37"
   },
   "source": [
    "## 첫번째 시도\n",
    "- NSMC 데이터 + AI HUB 한국어 감정 데이터 세트"
   ]
  },
  {
   "cell_type": "markdown",
   "metadata": {
    "id": "NdODqf1OBCJ_"
   },
   "source": [
    "### 랜덤 언더 샘플링"
   ]
  },
  {
   "cell_type": "code",
   "execution_count": null,
   "metadata": {
    "colab": {
     "base_uri": "https://localhost:8080/"
    },
    "executionInfo": {
     "elapsed": 6283,
     "status": "ok",
     "timestamp": 1709086391798,
     "user": {
      "displayName": "예리",
      "userId": "17547695558125933092"
     },
     "user_tz": -540
    },
    "id": "1L4xVXn3BOll",
    "outputId": "e15382b9-d3e5-456c-c949-1cff8d0cb81e"
   },
   "outputs": [],
   "source": [
    "!pip install imbalanced-learn"
   ]
  },
  {
   "cell_type": "markdown",
   "metadata": {
    "id": "_LZPYivkGbZB"
   },
   "source": [
    "### NSMC 데이터에서만 삭제"
   ]
  },
  {
   "cell_type": "code",
   "execution_count": null,
   "metadata": {
    "id": "ndpdNpaxCCXx"
   },
   "outputs": [],
   "source": [
    "movie = pd.concat([data1, data2])"
   ]
  },
  {
   "cell_type": "code",
   "execution_count": null,
   "metadata": {
    "colab": {
     "base_uri": "https://localhost:8080/"
    },
    "executionInfo": {
     "elapsed": 11,
     "status": "ok",
     "timestamp": 1709086396131,
     "user": {
      "displayName": "예리",
      "userId": "17547695558125933092"
     },
     "user_tz": -540
    },
    "id": "c7vy7ApwD4x0",
    "outputId": "9f631da5-f6e1-491b-d26f-a3c476f15822"
   },
   "outputs": [
    {
     "name": "stdout",
     "output_type": "stream",
     "text": [
      "부정    99419\n",
      "긍정    99173\n",
      "Name: labels, dtype: int64\n"
     ]
    }
   ],
   "source": [
    "print(movie[\"labels\"].value_counts())"
   ]
  },
  {
   "cell_type": "code",
   "execution_count": null,
   "metadata": {
    "id": "GKQOiphUDGcp"
   },
   "outputs": [],
   "source": [
    "hub_data = pd.concat([data3, data4])"
   ]
  },
  {
   "cell_type": "code",
   "execution_count": null,
   "metadata": {
    "colab": {
     "base_uri": "https://localhost:8080/"
    },
    "executionInfo": {
     "elapsed": 6,
     "status": "ok",
     "timestamp": 1709086407572,
     "user": {
      "displayName": "예리",
      "userId": "17547695558125933092"
     },
     "user_tz": -540
    },
    "id": "tDJVKcVNDqVP",
    "outputId": "d5dd4a97-5afd-4461-e020-9f6b5af10f78"
   },
   "outputs": [
    {
     "name": "stdout",
     "output_type": "stream",
     "text": [
      "중립    48611\n",
      "부정    14942\n",
      "긍정     7066\n",
      "Name: labels, dtype: int64\n"
     ]
    }
   ],
   "source": [
    "print(hub_data[\"labels\"].value_counts())"
   ]
  },
  {
   "cell_type": "code",
   "execution_count": null,
   "metadata": {
    "id": "YUEi9vG3FJoR"
   },
   "outputs": [],
   "source": [
    "positive = (hub_data[\"labels\"].value_counts()[\"중립\"]) - (\n",
    "    hub_data[\"labels\"].value_counts()[\"긍정\"]\n",
    ")\n",
    "negative = (hub_data[\"labels\"].value_counts()[\"중립\"]) - (\n",
    "    hub_data[\"labels\"].value_counts()[\"부정\"]\n",
    ")"
   ]
  },
  {
   "cell_type": "code",
   "execution_count": null,
   "metadata": {
    "colab": {
     "base_uri": "https://localhost:8080/"
    },
    "executionInfo": {
     "elapsed": 602,
     "status": "ok",
     "timestamp": 1709086418267,
     "user": {
      "displayName": "예리",
      "userId": "17547695558125933092"
     },
     "user_tz": -540
    },
    "id": "Wrxj87GVFlCU",
    "outputId": "54216e3e-0a4c-4a09-8e8b-9f04914ad93f"
   },
   "outputs": [
    {
     "data": {
      "text/plain": [
       "(41545, 33669)"
      ]
     },
     "execution_count": 38,
     "metadata": {},
     "output_type": "execute_result"
    }
   ],
   "source": [
    "positive, negative"
   ]
  },
  {
   "cell_type": "code",
   "execution_count": null,
   "metadata": {
    "id": "Qv17a4hlFE1O"
   },
   "outputs": [],
   "source": [
    "# NSMC 데이터에서 긍정과 부정 레이블을 hub 데이터의 긍정과 부정 레이블 개수에 맞춰 언더 샘플링\n",
    "movie_positive = movie[movie[\"labels\"] == \"긍정\"].sample(n=positive, random_state=42)\n",
    "movie_negative = movie[movie[\"labels\"] == \"부정\"].sample(n=negative, random_state=42)"
   ]
  },
  {
   "cell_type": "code",
   "execution_count": null,
   "metadata": {
    "colab": {
     "base_uri": "https://localhost:8080/"
    },
    "executionInfo": {
     "elapsed": 317,
     "status": "ok",
     "timestamp": 1709086426689,
     "user": {
      "displayName": "예리",
      "userId": "17547695558125933092"
     },
     "user_tz": -540
    },
    "id": "uLQhRUj8GCzc",
    "outputId": "d5b40fff-c1b0-4729-d41d-b62e5bdfff9c"
   },
   "outputs": [
    {
     "name": "stdout",
     "output_type": "stream",
     "text": [
      "부정    48611\n",
      "중립    48611\n",
      "긍정    48611\n",
      "Name: labels, dtype: int64\n"
     ]
    }
   ],
   "source": [
    "mrus_data = pd.concat([hub_data, movie_positive, movie_negative])\n",
    "print(mrus_data[\"labels\"].value_counts())"
   ]
  },
  {
   "cell_type": "code",
   "execution_count": null,
   "metadata": {
    "id": "LIRamdhM745a"
   },
   "outputs": [],
   "source": [
    "# 인덱스 다시 정렬\n",
    "mrus_data = mrus_data.reset_index(drop=True)"
   ]
  },
  {
   "cell_type": "code",
   "execution_count": null,
   "metadata": {
    "id": "JdINXbtQGOWU"
   },
   "outputs": [],
   "source": [
    "mrus_data.to_csv(\n",
    "    \"/content/drive/MyDrive/Colab Notebooks/특정 테스크에 해당하는 자연어처리 모델 서빙하기/mrus_data.csv\",\n",
    "    index=False,\n",
    "    encoding=\"utf-8-sig\",\n",
    ")"
   ]
  },
  {
   "cell_type": "markdown",
   "metadata": {
    "id": "VeXOavVgGiTj"
   },
   "source": [
    "### 전체 랜덤 언더 샘플링"
   ]
  },
  {
   "cell_type": "code",
   "execution_count": null,
   "metadata": {
    "colab": {
     "base_uri": "https://localhost:8080/"
    },
    "executionInfo": {
     "elapsed": 2974,
     "status": "ok",
     "timestamp": 1709086445080,
     "user": {
      "displayName": "예리",
      "userId": "17547695558125933092"
     },
     "user_tz": -540
    },
    "id": "xx-aZQ6_BDIK",
    "outputId": "ab410e28-46ac-4ebd-9d89-29ed74cb2a47"
   },
   "outputs": [
    {
     "name": "stdout",
     "output_type": "stream",
     "text": [
      "긍정    48611\n",
      "부정    48611\n",
      "중립    48611\n",
      "Name: labels, dtype: int64\n"
     ]
    }
   ],
   "source": [
    "from imblearn.under_sampling import RandomUnderSampler\n",
    "\n",
    "# 랜덤 언더 샘플링 객체 생성\n",
    "rus = RandomUnderSampler(random_state=42)\n",
    "\n",
    "# 데이터와 레이블 분리\n",
    "X = data[[\"text\"]]  # 데이터프레임을 2차원 구조로 유지\n",
    "y = data[\"labels\"]\n",
    "\n",
    "# 언더 샘플링 적용\n",
    "X_resampled, y_resampled = rus.fit_resample(X, y)\n",
    "\n",
    "# 결과를 데이터 프레임으로 변환\n",
    "data_resampled = pd.DataFrame(X_resampled, columns=[\"text\"])\n",
    "data_resampled[\"labels\"] = y_resampled\n",
    "\n",
    "# 결과 확인\n",
    "print(data_resampled[\"labels\"].value_counts())"
   ]
  },
  {
   "cell_type": "code",
   "execution_count": null,
   "metadata": {
    "id": "kUTDKCwvDm5R"
   },
   "outputs": [],
   "source": [
    "data_resampled.to_csv(\n",
    "    \"/content/drive/MyDrive/Colab Notebooks/특정 테스크에 해당하는 자연어처리 모델 서빙하기/data_resampled.csv\",\n",
    "    index=False,\n",
    "    encoding=\"utf-8-sig\",\n",
    ")"
   ]
  },
  {
   "cell_type": "code",
   "execution_count": null,
   "metadata": {
    "colab": {
     "base_uri": "https://localhost:8080/",
     "height": 577
    },
    "executionInfo": {
     "elapsed": 673,
     "status": "ok",
     "timestamp": 1709013917407,
     "user": {
      "displayName": "예리",
      "userId": "17547695558125933092"
     },
     "user_tz": -540
    },
    "id": "miwyMNZCKmiJ",
    "outputId": "eb569092-51f6-42ba-e888-90f6a70d8f9e"
   },
   "outputs": [
    {
     "data": {
      "image/png": "[encoded data removed]",
      "text/plain": [
       "<Figure size 800x600 with 1 Axes>"
      ]
     },
     "metadata": {},
     "output_type": "display_data"
    }
   ],
   "source": [
    "import matplotlib.pyplot as plt\n",
    "from matplotlib import font_manager, rc\n",
    "\n",
    "# 레이블 분포 계산\n",
    "label_counts = mrus_data[\"label\"].value_counts()\n",
    "\n",
    "# 시각화\n",
    "plt.figure(figsize=(8, 6))\n",
    "label_counts.plot(kind=\"bar\")\n",
    "plt.title(\"Label Distribution\")\n",
    "plt.xlabel(\"Label\")\n",
    "plt.ylabel(\"Count\")\n",
    "plt.xticks(rotation=45)\n",
    "plt.show()\n",
    "\n",
    "# 한글 폰트 설정\n",
    "plt.rc(\"font\", family=\"NanumBarunGothic\")"
   ]
  },
  {
   "cell_type": "markdown",
   "metadata": {
    "id": "GFozABFfGTEr"
   },
   "source": [
    "### 두번째 시도\n",
    "- 감성 대화 말뭉치 추가 & NSMC 제거"
   ]
  },
  {
   "cell_type": "code",
   "execution_count": 39,
   "metadata": {
    "executionInfo": {
     "elapsed": 338,
     "status": "ok",
     "timestamp": 1709617246831,
     "user": {
      "displayName": "예리",
      "userId": "17547695558125933092"
     },
     "user_tz": -540
    },
    "id": "jFo-tZbrGSXc"
   },
   "outputs": [],
   "source": [
    "data = pd.concat([data3, data4, data5])"
   ]
  },
  {
   "cell_type": "code",
   "execution_count": null,
   "metadata": {
    "colab": {
     "base_uri": "https://localhost:8080/"
    },
    "executionInfo": {
     "elapsed": 309,
     "status": "ok",
     "timestamp": 1709617251926,
     "user": {
      "displayName": "예리",
      "userId": "17547695558125933092"
     },
     "user_tz": -540
    },
    "id": "bltySb_oGZRr",
    "outputId": "fcf93303-5e4c-474e-a3fc-ab9ef8f3032d"
   },
   "outputs": [
    {
     "name": "stdout",
     "output_type": "stream",
     "text": [
      "부정    65874\n",
      "중립    48611\n",
      "긍정    14405\n",
      "Name: labels, dtype: int64\n"
     ]
    }
   ],
   "source": [
    "print(data[\"labels\"].value_counts())"
   ]
  },
  {
   "cell_type": "code",
   "execution_count": null,
   "metadata": {
    "colab": {
     "base_uri": "https://localhost:8080/"
    },
    "executionInfo": {
     "elapsed": 799,
     "status": "ok",
     "timestamp": 1709617314456,
     "user": {
      "displayName": "예리",
      "userId": "17547695558125933092"
     },
     "user_tz": -540
    },
    "id": "RdmSlcvhGkLA",
    "outputId": "30a5b068-5f4f-45f0-9d1d-ff65b6a90545"
   },
   "outputs": [
    {
     "name": "stdout",
     "output_type": "stream",
     "text": [
      "긍정    14405\n",
      "부정    14405\n",
      "중립    14405\n",
      "Name: labels, dtype: int64\n"
     ]
    }
   ],
   "source": [
    "from imblearn.under_sampling import RandomUnderSampler\n",
    "\n",
    "# 랜덤 언더 샘플링 객체 생성\n",
    "rus = RandomUnderSampler(random_state=42)\n",
    "\n",
    "# 데이터와 레이블 분리\n",
    "X = data[[\"text\"]]  # 데이터프레임을 2차원 구조로 유지\n",
    "y = data[\"labels\"]\n",
    "\n",
    "# 언더 샘플링 적용\n",
    "X_resampled, y_resampled = rus.fit_resample(X, y)\n",
    "\n",
    "# 결과를 데이터 프레임으로 변환\n",
    "data_resampled = pd.DataFrame(X_resampled, columns=[\"text\"])\n",
    "data_resampled[\"labels\"] = y_resampled\n",
    "\n",
    "# 결과 확인\n",
    "print(data_resampled[\"labels\"].value_counts())"
   ]
  },
  {
   "cell_type": "code",
   "execution_count": null,
   "metadata": {
    "executionInfo": {
     "elapsed": 686,
     "status": "ok",
     "timestamp": 1709617338721,
     "user": {
      "displayName": "예리",
      "userId": "17547695558125933092"
     },
     "user_tz": -540
    },
    "id": "lnDlNCgKGsMv"
   },
   "outputs": [],
   "source": [
    "data_resampled.to_csv(\n",
    "    \"/content/drive/MyDrive/Colab Notebooks/특정 테스크에 해당하는 자연어처리 모델 서빙하기/데이터/hub_rus_data.csv\",\n",
    "    index=False,\n",
    "    encoding=\"utf-8-sig\",\n",
    ")"
   ]
  },
  {
   "cell_type": "code",
   "execution_count": null,
   "metadata": {
    "executionInfo": {
     "elapsed": 438,
     "status": "ok",
     "timestamp": 1709617339583,
     "user": {
      "displayName": "예리",
      "userId": "17547695558125933092"
     },
     "user_tz": -540
    },
    "id": "bOzNXfl0G2dA"
   },
   "outputs": [],
   "source": [
    "data.to_csv(\n",
    "    \"/content/drive/MyDrive/Colab Notebooks/특정 테스크에 해당하는 자연어처리 모델 서빙하기/데이터/hub_data.csv\",\n",
    "    index=False,\n",
    "    encoding=\"utf-8-sig\",\n",
    ")"
   ]
  }
 ],
 "metadata": {
  "colab": {
   "authorship_tag": "ABX9TyOMJf5b1sCgEeL3znpYiI2D",
   "provenance": []
  },
  "kernelspec": {
   "display_name": "Python 3",
   "name": "python3"
  },
  "language_info": {
   "name": "python"
  }
 },
 "nbformat": 4,
 "nbformat_minor": 0
}
